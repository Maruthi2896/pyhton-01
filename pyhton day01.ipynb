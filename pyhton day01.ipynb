{
 "cells": [
  {
   "cell_type": "code",
   "execution_count": 7,
   "metadata": {},
   "outputs": [
    {
     "name": "stdout",
     "output_type": "stream",
     "text": [
      "False\n",
      "maruthi first day python learning\n",
      "MARUTHI FIRST DAY PYTHON LEARNING\n",
      "Maruthi first day python learning\n",
      "Maruthi first Day Python of teaching\n",
      "16\n",
      "True\n"
     ]
    }
   ],
   "source": [
    "# first code of python\n",
    "year=int(input(\"enter the year of birth\"))\n",
    "age=2024-year\n",
    "print(\"Your age is \"+str(age))\n",
    "\n",
    "#101.string operations\n",
    "#1\n",
    "Title=\"Maruthi first Day Python learning\"\n",
    "print(Title.islower()) # false\n",
    "\n",
    "#2 conerting to lowercase, uppercase and capitalize\n",
    "print(Title.lower())      #maruthi first day python learning\n",
    "print(Title.upper())     #MARUTHI FIRST DAY PYTHON LEARNING\n",
    "print(Title.capitalize()) #first letter of string will be capital ie \"Maruthi first day python learning\"\n",
    "\n",
    "#find,replace and in\n",
    "print(Title.replace(\"learning\",\"of teaching\")) #Maruthi first Day Python of teaching\n",
    "print(Title.find('y')) # gives first occurence index of mentioned string\n",
    "print('first' in Title) # checks mentioned string exists or not gives bool value"
   ]
  }
 ],
 "metadata": {
  "kernelspec": {
   "display_name": "Python 3 (ipykernel)",
   "language": "python",
   "name": "python3"
  },
  "language_info": {
   "codemirror_mode": {
    "name": "ipython",
    "version": 3
   },
   "file_extension": ".py",
   "mimetype": "text/x-python",
   "name": "python",
   "nbconvert_exporter": "python",
   "pygments_lexer": "ipython3",
   "version": "3.12.2"
  }
 },
 "nbformat": 4,
 "nbformat_minor": 5
}
